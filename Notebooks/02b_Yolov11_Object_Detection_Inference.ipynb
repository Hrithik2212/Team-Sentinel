{
 "cells": [
  {
   "cell_type": "markdown",
   "metadata": {},
   "source": [
    "## Object Detection Inference with YoloV11"
   ]
  },
  {
   "cell_type": "code",
   "execution_count": 1,
   "metadata": {},
   "outputs": [
    {
     "name": "stdout",
     "output_type": "stream",
     "text": [
      "Ultralytics 8.3.11 🚀 Python-3.11.6 torch-2.4.1+cu121 CUDA:0 (NVIDIA GeForce GTX 1650, 3904MiB)\n",
      "Setup complete ✅ (12 CPUs, 7.2 GB RAM, 62.0/204.7 GB disk)\n"
     ]
    }
   ],
   "source": [
    "import os\n",
    "import yt_dlp\n",
    "import ultralytics\n",
    "ultralytics.checks()"
   ]
  },
  {
   "cell_type": "markdown",
   "metadata": {},
   "source": [
    "## Download Test Video "
   ]
  },
  {
   "cell_type": "code",
   "execution_count": 3,
   "metadata": {},
   "outputs": [],
   "source": [
    "\n",
    "def download_youtube_video_yt_dlp(video_url, path):\n",
    "    \"\"\"\n",
    "    Downloads a YouTube video using yt-dlp.\n",
    "\n",
    "    Parameters:\n",
    "    - video_url (str): The URL of the YouTube video to download.\n",
    "    - path (str): The directory where the video will be saved.\n",
    "    \"\"\"\n",
    "    # Ensure the target directory exists\n",
    "    if not os.path.exists(path):\n",
    "        os.makedirs(path)\n",
    "    \n",
    "    # Define yt-dlp options\n",
    "    ydl_opts = {\n",
    "        'outtmpl': os.path.join(path, '%(title)s.%(ext)s'),  # Output filename template\n",
    "        'format': 'bestvideo+bestaudio/best',                # Download best video and audio\n",
    "        'merge_output_format': 'mp4',                        # Merge into mp4 format\n",
    "        'quiet': False,                                      # Show download progress\n",
    "        'no_warnings': True,                                 # Suppress warnings\n",
    "        'ignoreerrors': False,                               # Stop on download errors\n",
    "    }\n",
    "     \n",
    "    try:\n",
    "        with yt_dlp.YoutubeDL(ydl_opts) as ydl:\n",
    "            ydl.download([video_url])\n",
    "        print(\"Download completed successfully.\")\n",
    "    except yt_dlp.utils.DownloadError as e:\n",
    "        print(f\"Download error: {e}\")\n",
    "    except Exception as e:\n",
    "        print(f\"An unexpected error occurred: {e}\")\n"
   ]
  },
  {
   "cell_type": "code",
   "execution_count": 4,
   "metadata": {},
   "outputs": [
    {
     "name": "stdout",
     "output_type": "stream",
     "text": [
      "[youtube] Extracting URL: https://www.youtube.com/watch?v=tPnewFio-sQ\n",
      "[youtube] tPnewFio-sQ: Downloading webpage\n",
      "[youtube] tPnewFio-sQ: Downloading ios player API JSON\n",
      "[youtube] tPnewFio-sQ: Downloading mweb player API JSON\n",
      "[youtube] tPnewFio-sQ: Downloading m3u8 information\n",
      "[info] tPnewFio-sQ: Downloading 1 format(s): 137+251\n",
      "[download] Destination: ../Data/Video/Buy SA. For SA. Conveyor Belt Supermarket #2.f137.mp4\n",
      "[download] 100% of    4.97MiB in 00:00:10 at 498.44KiB/s \n",
      "[download] Destination: ../Data/Video/Buy SA. For SA. Conveyor Belt Supermarket #2.f251.webm\n",
      "[download] 100% of  228.71KiB in 00:00:00 at 249.10KiB/s \n",
      "[Merger] Merging formats into \"../Data/Video/Buy SA. For SA. Conveyor Belt Supermarket #2.mp4\"\n",
      "Deleting original file ../Data/Video/Buy SA. For SA. Conveyor Belt Supermarket #2.f251.webm (pass -k to keep)\n",
      "Deleting original file ../Data/Video/Buy SA. For SA. Conveyor Belt Supermarket #2.f137.mp4 (pass -k to keep)\n",
      "Download completed successfully.\n"
     ]
    }
   ],
   "source": [
    "video_url = 'https://www.youtube.com/watch?v=tPnewFio-sQ'\n",
    "download_path = '../Data/Video'\n",
    "\n",
    "download_youtube_video_yt_dlp(video_url, download_path)"
   ]
  },
  {
   "cell_type": "code",
   "execution_count": 3,
   "metadata": {},
   "outputs": [
    {
     "name": "stdout",
     "output_type": "stream",
     "text": [
      "PyTorch Version: 2.4.1+cu121\n",
      "Is CUDA available: False\n",
      "CUDA Version: 12.1\n",
      "Number of CUDA devices: 1\n"
     ]
    }
   ],
   "source": [
    "import torch\n",
    "\n",
    "print(\"PyTorch Version:\", torch.__version__)\n",
    "print(\"Is CUDA available:\", torch.cuda.is_available())\n",
    "print(\"CUDA Version:\", torch.version.cuda)\n",
    "print(\"Number of CUDA devices:\", torch.cuda.device_count())\n",
    "if torch.cuda.is_available():\n",
    "    print(\"CUDA Device Name:\", torch.cuda.get_device_name(0))\n"
   ]
  },
  {
   "cell_type": "code",
   "execution_count": 3,
   "metadata": {},
   "outputs": [
    {
     "name": "stdout",
     "output_type": "stream",
     "text": [
      "Ultralytics 8.3.11 🚀 Python-3.11.6 torch-2.4.1+cu121 CUDA:0 (NVIDIA GeForce GTX 1650, 3904MiB)\n",
      "YOLO11m summary (fused): 303 layers, 20,030,803 parameters, 0 gradients, 67.6 GFLOPs\n",
      "Results saved to \u001b[1mruns/detect/predict8\u001b[0m\n",
      "💡 Learn more at https://docs.ultralytics.com/modes/predict\n"
     ]
    }
   ],
   "source": [
    "input_video_path = '../Data/Video/v2.mp4'  # First video path\n",
    "# Output paths for saving the prediction result\n",
    "\n",
    "# Run YOLO on the first video for object detection\n",
    "!yolo task=detect mode=predict model=\"Models/yolov11m_50epv1.pt\" conf=0.6 source=\"{input_video_path}\" verbose=False \n"
   ]
  },
  {
   "cell_type": "code",
   "execution_count": 1,
   "metadata": {},
   "outputs": [
    {
     "name": "stdout",
     "output_type": "stream",
     "text": [
      "PyTorch Version: 2.4.1+cu121\n",
      "Is CUDA available: True\n",
      "CUDA Version: 12.1\n",
      "Number of CUDA devices: 1\n",
      "CUDA Device Name: NVIDIA GeForce GTX 1650\n"
     ]
    }
   ],
   "source": [
    "import torch\n",
    "\n",
    "print(\"PyTorch Version:\", torch.__version__)\n",
    "print(\"Is CUDA available:\", torch.cuda.is_available())\n",
    "print(\"CUDA Version:\", torch.version.cuda)\n",
    "print(\"Number of CUDA devices:\", torch.cuda.device_count())\n",
    "if torch.cuda.is_available():\n",
    "    print(\"CUDA Device Name:\", torch.cuda.get_device_name(0))\n"
   ]
  },
  {
   "cell_type": "code",
   "execution_count": 6,
   "metadata": {},
   "outputs": [],
   "source": [
    "from ultralytics import YOLO"
   ]
  },
  {
   "cell_type": "code",
   "execution_count": null,
   "metadata": {},
   "outputs": [],
   "source": []
  }
 ],
 "metadata": {
  "kernelspec": {
   "display_name": "venv",
   "language": "python",
   "name": "python3"
  },
  "language_info": {
   "codemirror_mode": {
    "name": "ipython",
    "version": 3
   },
   "file_extension": ".py",
   "mimetype": "text/x-python",
   "name": "python",
   "nbconvert_exporter": "python",
   "pygments_lexer": "ipython3",
   "version": "3.11.6"
  }
 },
 "nbformat": 4,
 "nbformat_minor": 2
}
